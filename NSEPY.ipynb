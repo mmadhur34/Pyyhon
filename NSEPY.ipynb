import pandas as pd
from nsepy import get_history
from datetime import date
import matplotlib.pyplot as plt
%matplotlib inline

data = get_history(symbol="SBIN", start=date(2019,3,20), end=date(2019,4,20))
data[['Close']].plot()

tcs= get_history(symbol="TCS",start=date(2019,1,1),end=date(2019,4,20))
tcs[['Close']].plot()
